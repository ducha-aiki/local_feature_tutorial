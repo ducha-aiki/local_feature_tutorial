{
 "cells": [
  {
   "cell_type": "code",
   "execution_count": null,
   "metadata": {},
   "outputs": [],
   "source": [
    "# default_exp io"
   ]
  },
  {
   "cell_type": "markdown",
   "metadata": {},
   "source": [
    "# IO\n",
    "\n",
    "> Utils for (down)loading pretrained weights and so on"
   ]
  },
  {
   "cell_type": "code",
   "execution_count": null,
   "metadata": {},
   "outputs": [],
   "source": [
    "#hide\n",
    "from nbdev.showdoc import *"
   ]
  },
  {
   "cell_type": "code",
   "execution_count": null,
   "metadata": {},
   "outputs": [],
   "source": [
    "#export\n",
    "import wget\n",
    "import random\n",
    "import sys\n",
    "from pathlib import Path\n",
    "import os\n",
    "import tarfile \n",
    "import zipfile\n",
    "import hashlib\n",
    "\n",
    "DOWNLOAD_DIR = os.path.join(str(Path.home()), '.wbs-tutorial')"
   ]
  },
  {
   "cell_type": "code",
   "execution_count": null,
   "metadata": {},
   "outputs": [],
   "source": [
    "#export\n",
    "def download_file(url:str, fname:str=None, md5sum:str=None, with_progress:bool=False):\n",
    "    def show_progress(current, total, width=80):\n",
    "        if random.randint(0,10) == 5:\n",
    "            sys.stdout.flush()\n",
    "        progress_message = \"Downloading: %d%% [%d / %d] bytes\\r\" % (current / total * 100, current, total)\n",
    "        return progress_message\n",
    "    os.makedirs(DOWNLOAD_DIR, exist_ok=True)\n",
    "    out_fname = os.path.join(DOWNLOAD_DIR, fname)\n",
    "    downloaded = os.path.isfile(out_fname)\n",
    "    if downloaded and md5sum is not None:\n",
    "        with open(out_fname, 'rb') as f:\n",
    "            md5 = hashlib.md5(f.read()).hexdigest()\n",
    "            if md5 == md5sum:\n",
    "                downloaded = True\n",
    "                print (f'{out_fname} already downloaded')\n",
    "            else:\n",
    "                print (f'{out_fname} already downloaded, but hashsum is wrong')\n",
    "                downloaded = False\n",
    "    if not downloaded:\n",
    "        print (f\"Downloading {url}\")\n",
    "        if with_progress:\n",
    "            wget.download(url, out_fname, show_progress)\n",
    "        else:\n",
    "            wget.download(url, out_fname)\n",
    "        print ('Done')\n",
    "    return out_fname"
   ]
  },
  {
   "cell_type": "code",
   "execution_count": null,
   "metadata": {},
   "outputs": [],
   "source": []
  },
  {
   "cell_type": "code",
   "execution_count": null,
   "metadata": {},
   "outputs": [],
   "source": [
    "#export\n",
    "import subprocess\n",
    "def clone_gitrepo_and_return_path(url: str, reponame:str):\n",
    "    '''To simplify downloading the 3rd party repo'''\n",
    "    BASE_DOWNLOAD_DIR = os.path.join(str(Path.home()), '.wbs-tutorial')\n",
    "    os.makedirs(BASE_DOWNLOAD_DIR, exist_ok=True)\n",
    "    subprocess.run(f'cd {BASE_DOWNLOAD_DIR} && git clone {url} --recursive {reponame}', shell=True,check=True, text=True)\n",
    "    return  os.path.join(BASE_DOWNLOAD_DIR, reponame)"
   ]
  },
  {
   "cell_type": "code",
   "execution_count": null,
   "metadata": {},
   "outputs": [],
   "source": []
  },
  {
   "cell_type": "code",
   "execution_count": null,
   "metadata": {},
   "outputs": [],
   "source": []
  },
  {
   "cell_type": "code",
   "execution_count": null,
   "metadata": {},
   "outputs": [],
   "source": []
  },
  {
   "cell_type": "code",
   "execution_count": null,
   "metadata": {},
   "outputs": [
    {
     "name": "stdout",
     "output_type": "stream",
     "text": [
      "Converted datasets.ipynb.\n",
      "Converted index.ipynb.\n",
      "Converted io.ipynb.\n",
      "Converted retrieval.ipynb.\n",
      "Converted visualization.ipynb.\n",
      "Converted wbs.ipynb.\n"
     ]
    }
   ],
   "source": [
    "#hide\n",
    "from nbdev.export import notebook2script\n",
    "notebook2script()"
   ]
  }
 ],
 "metadata": {
  "kernelspec": {
   "display_name": "Python 3",
   "language": "python",
   "name": "python3"
  }
 },
 "nbformat": 4,
 "nbformat_minor": 4
}
