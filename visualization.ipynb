{
 "cells": [
  {
   "cell_type": "code",
   "execution_count": null,
   "metadata": {},
   "outputs": [],
   "source": [
    "# default_exp visualization"
   ]
  },
  {
   "cell_type": "markdown",
   "metadata": {},
   "source": [
    "# Visualization\n",
    "\n",
    "> API details."
   ]
  },
  {
   "cell_type": "code",
   "execution_count": null,
   "metadata": {},
   "outputs": [],
   "source": [
    "#hide\n",
    "from nbdev.showdoc import *"
   ]
  },
  {
   "cell_type": "markdown",
   "metadata": {},
   "source": []
  },
  {
   "cell_type": "code",
   "execution_count": null,
   "metadata": {},
   "outputs": [],
   "source": [
    "#export\n",
    "import numpy as np\n",
    "import matplotlib.pyplot as plt\n",
    "from mpl_toolkits.axes_grid1 import ImageGrid\n",
    "import cv2\n",
    "\n",
    "def visualize_grid(img_fnames, figsize=(16,16)):\n",
    "    num_imgs = len(img_fnames)\n",
    "    cols = int(np.sqrt(num_imgs)) \n",
    "    if num_imgs % cols == 0:\n",
    "        rows = (num_imgs // cols) \n",
    "    else:\n",
    "        rows = (num_imgs // cols) +1\n",
    "    fig = plt.figure(1, figsize)\n",
    "    grid = ImageGrid(fig, 111,\n",
    "                     nrows_ncols=(rows, cols),\n",
    "                     axes_pad=0)\n",
    "    for i in range(num_imgs):\n",
    "        grid[i].imshow(cv2.cvtColor(cv2.imread(img_fnames[i]), cv2.COLOR_BGR2RGB))\n",
    "        grid[i].axis('off')\n",
    "    return\n"
   ]
  },
  {
   "cell_type": "code",
   "execution_count": null,
   "metadata": {},
   "outputs": [],
   "source": [
    "#export\n",
    "from copy import deepcopy\n",
    "def decolorize(img):\n",
    "    return  cv2.cvtColor(cv2.cvtColor(img,cv2.COLOR_RGB2GRAY), cv2.COLOR_GRAY2RGB)\n",
    "def draw_matches_cv2(kps1, kps2, img1, img2, figsize=(12,8), mask = None):\n",
    "    if type(img1) is str:\n",
    "        img1 = cv2.cvtColor(cv2.imread(img1), cv2.COLOR_BGR2RGB)\n",
    "    if type(img2) is str:\n",
    "        img2 = cv2.cvtColor(cv2.imread(img2), cv2.COLOR_BGR2RGB)\n",
    "    h,w,ch = img1.shape\n",
    "    pts = np.float32([ [0,0],[0,h-1],[w-1,h-1],[w-1,0] ]).reshape(-1,1,2)\n",
    "    if mask is None:\n",
    "        mask = [True for i in range(len(kps1))]\n",
    "    # Blue is estimated, green is ground truth homography\n",
    "    draw_params = dict( matchColor = (0,255,0), # draw matches in yellow color\n",
    "                   singlePointColor = (0,255,0),\n",
    "                   matchesMask = mask, # draw only inliers\n",
    "                   flags = cv2.DRAW_MATCHES_FLAGS_DRAW_RICH_KEYPOINTS)\n",
    "    img_out = cv2.drawMatches(img1,kps1,img2,kps2,\n",
    "                              [cv2.DMatch(i,i, 0) for i in range(len(kps1))],None,**draw_params)\n",
    "    plt.figure(figsize=figsize)\n",
    "    plt.imshow(img_out)\n",
    "    return"
   ]
  },
  {
   "cell_type": "code",
   "execution_count": null,
   "metadata": {},
   "outputs": [],
   "source": [
    "#export\n",
    "import matplotlib.pyplot as plt\n",
    "def draw_matches(kp1, kp2, img1, img2,  color=None,  figsize=(12,8), mask = None, vert = False, R=1): \n",
    "    \"\"\"Draws lines between matching keypoints of two images.  \n",
    "    Keypoints not in a matching pair are not drawn.\n",
    "    Places the images side by side in a new image and draws circles \n",
    "    around each keypoint, with line segments connecting matching pairs.\n",
    "    You can tweak the r, thickness, and figsize values as needed.\n",
    "    Args:\n",
    "        img1: An openCV image ndarray in a grayscale or color format.\n",
    "        kp1: A list of cv2.KeyPoint objects for img1.\n",
    "        img2: An openCV image ndarray of the same format and with the same \n",
    "        element type as img1.\n",
    "        kp2: A list of cv2.KeyPoint objects for img2.\n",
    "        matches: A list of DMatch objects whose trainIdx attribute refers to \n",
    "        img1 keypoints and whose queryIdx attribute refers to img2 keypoints.\n",
    "        color: The color of the circles and connecting lines drawn on the images.  \n",
    "        A 3-tuple for color images, a scalar for grayscale images.  If None, these\n",
    "        values are randomly generated.  \n",
    "    \"\"\"\n",
    "    if type(img1) is str:\n",
    "        img1 = cv2.cvtColor(cv2.imread(img1), cv2.COLOR_BGR2RGB)\n",
    "    if type(img2) is str:\n",
    "        img2 = cv2.cvtColor(cv2.imread(img2), cv2.COLOR_BGR2RGB)\n",
    "    # We're drawing them side by side.  Get dimensions accordingly.\n",
    "    # Handle both color and grayscale images.\n",
    "    if not vert:\n",
    "        if len(img1.shape) == 3:\n",
    "            new_shape = (max(img1.shape[0], img2.shape[0]), img1.shape[1]+img2.shape[1], img1.shape[2])\n",
    "        elif len(img1.shape) == 2:\n",
    "            new_shape = (max(img1.shape[0], img2.shape[0]), img1.shape[1]+img2.shape[1])\n",
    "    else:\n",
    "        if len(img1.shape) == 3:\n",
    "            new_shape = (img1.shape[0]+ img2.shape[0], max(img1.shape[1],img2.shape[1]), img1.shape[2])\n",
    "        elif len(img1.shape) == 2:\n",
    "            new_shape = (img1.shape[0]+ img2.shape[0], max(img1.shape[1],img2.shape[1]))        \n",
    "    new_img = np.zeros(new_shape, type(img1.flat[0]))  \n",
    "    # Place images onto the new image.\n",
    "    if not vert:\n",
    "        new_img[0:img1.shape[0],0:img1.shape[1]] = img1\n",
    "        new_img[0:img2.shape[0],img1.shape[1]:img1.shape[1]+img2.shape[1]] = img2\n",
    "    else:\n",
    "        new_img[0:img1.shape[0],0:img1.shape[1]] = img1\n",
    "        new_img[img1.shape[0]:img1.shape[0]+img2.shape[0], 0:img2.shape[1]] = img2\n",
    "    # Draw lines between matches.  Make sure to offset kp coords in second image appropriately.\n",
    "    r = 15\n",
    "    thickness = 2\n",
    "    if color:\n",
    "        c = color\n",
    "    matches = [cv2.DMatch(i,i, 0) for i in range(len(kp1))]\n",
    "    for m in matches:\n",
    "        # Generate random color for RGB/BGR and grayscale images as needed.\n",
    "        if not color: \n",
    "            c = np.random.randint(0,256,3) if len(img1.shape) == 3 else np.random.randint(0,256)\n",
    "        # So the keypoint locs are stored as a tuple of floats.  cv2.line(), like most other things,\n",
    "        # wants locs as a tuple of ints.\n",
    "        end1 = tuple(np.round(kp1[m.queryIdx].pt).astype(int))\n",
    "        if not vert:\n",
    "            end2 = tuple(np.round(kp2[m.trainIdx].pt).astype(int) + np.array([img1.shape[1], 0]))\n",
    "        else:\n",
    "            end2 = tuple(np.round(kp2[m.trainIdx].pt).astype(int) + np.array([0, img1.shape[0]]))\n",
    "        cv2.line(new_img, end1, end2, c, thickness)\n",
    "        cv2.circle(new_img, end1, R*int(kp1[m.queryIdx].size), c, thickness)\n",
    "        cv2.circle(new_img, end2, R*int(kp2[m.trainIdx].size), c, thickness)\n",
    "    \n",
    "    plt.figure(figsize=figsize)\n",
    "    plt.imshow(new_img)\n",
    "    #plt.show()\n",
    "    return"
   ]
  },
  {
   "cell_type": "code",
   "execution_count": null,
   "metadata": {},
   "outputs": [
    {
     "name": "stdout",
     "output_type": "stream",
     "text": [
      "Converted datasets.ipynb.\n",
      "Converted index.ipynb.\n",
      "Converted io.ipynb.\n",
      "Converted retrieval.ipynb.\n",
      "Converted visualization.ipynb.\n",
      "Converted wbs.ipynb.\n"
     ]
    }
   ],
   "source": [
    "#hide\n",
    "from nbdev.export import notebook2script\n",
    "notebook2script()"
   ]
  }
 ],
 "metadata": {
  "kernelspec": {
   "display_name": "Python 3",
   "language": "python",
   "name": "python3"
  }
 },
 "nbformat": 4,
 "nbformat_minor": 2
}
